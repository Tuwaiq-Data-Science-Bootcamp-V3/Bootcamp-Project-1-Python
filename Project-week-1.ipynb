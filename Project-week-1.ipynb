{
 "cells": [
  {
   "cell_type": "markdown",
   "id": "d62f2be9",
   "metadata": {},
   "source": [
    "# Budget tracking software"
   ]
  },
  {
   "cell_type": "markdown",
   "id": "7ccd1091",
   "metadata": {},
   "source": [
    "- Created list and dictionary."
   ]
  },
  {
   "cell_type": "code",
   "execution_count": 1,
   "id": "a16d9e99",
   "metadata": {},
   "outputs": [],
   "source": [
    "expenses= {}\n",
    "list_expenses= []"
   ]
  },
  {
   "cell_type": "markdown",
   "id": "41675461",
   "metadata": {},
   "source": [
    "## Created functions in the following:\n",
    "- highest_expenses() used to find max number using for loop and if statement"
   ]
  },
  {
   "cell_type": "code",
   "execution_count": 2,
   "id": "88394651",
   "metadata": {},
   "outputs": [],
   "source": [
    "def highest_expenses():\n",
    "    max_num = list_expenses[0]  \n",
    "    for j in list_expenses: \n",
    "        if j > max_num: \n",
    "            max_num = j\n",
    "    print(\"The highest expensses is: \",max_num)"
   ]
  },
  {
   "cell_type": "markdown",
   "id": "36958980",
   "metadata": {},
   "source": [
    "- Less_expenses() used to find min number using function min()"
   ]
  },
  {
   "cell_type": "code",
   "execution_count": 3,
   "id": "67f01d41",
   "metadata": {},
   "outputs": [],
   "source": [
    "def Less_expenses():\n",
    "    min_num = min(list_expenses)\n",
    "    print(\"The less expenses is:\", min_num)"
   ]
  },
  {
   "cell_type": "markdown",
   "id": "dbb9f6e8",
   "metadata": {},
   "source": [
    "- total expenses() used to calculate total numbers using Lambda function, searched in \n",
    "[geeksforgeeks](https://www.geeksforgeeks.org/python-lambda-anonymous-functions-filter-map-reduce/)"
   ]
  },
  {
   "cell_type": "code",
   "execution_count": 4,
   "id": "49763d98",
   "metadata": {},
   "outputs": [],
   "source": [
    "from functools import reduce\n",
    "def total_expenses():\n",
    "    sum = reduce((lambda x, y: x + y), list_expenses)\n",
    "    print(\"The Total of the expenses is:\", sum)"
   ]
  },
  {
   "cell_type": "markdown",
   "id": "c294cf5e",
   "metadata": {},
   "source": [
    "- average_expenses() used to calculate average numbers using return"
   ]
  },
  {
   "cell_type": "code",
   "execution_count": 5,
   "id": "f53189ab",
   "metadata": {},
   "outputs": [],
   "source": [
    "def average_expenses():\n",
    "    average = print(\"The average of the expensses is: \", sum(list_expenses)/len(list_expenses)) \n",
    "    return average"
   ]
  },
  {
   "cell_type": "markdown",
   "id": "3f6bf09c",
   "metadata": {},
   "source": [
    "## Main of software"
   ]
  },
  {
   "cell_type": "code",
   "execution_count": 6,
   "id": "4c4eec1a",
   "metadata": {},
   "outputs": [
    {
     "name": "stdout",
     "output_type": "stream",
     "text": [
      "Welcome in Budget tracking software\n",
      "Enter your expenses: 365.50\n",
      "Enter category: Food\n",
      "Do you want to add another?\n",
      "(Type 'NO' to quit)\tYes\n",
      "Enter your expenses: 370\n",
      "Enter category: Drink\n",
      "Do you want to add another?\n",
      "(Type 'NO' to quit)\tYes\n",
      "Enter your expenses: 387\n",
      "Enter category: Bills\n",
      "Do you want to add another?\n",
      "(Type 'NO' to quit)\tno\n",
      "What do you want to inquire about:\n",
      "                    1- Highest expenses.\n",
      "                    2- Less expenses.\n",
      "                    3- Average exchange rate.\n",
      "                    4- Total expenses\n",
      "                    (Type \"0\" to quit)\t1\n",
      "The highest expensses is:  387.0\n",
      "What do you want to inquire about:\n",
      "                    1- Highest expenses.\n",
      "                    2- Less expenses.\n",
      "                    3- Average exchange rate.\n",
      "                    4- Total expenses\n",
      "                    (Type \"0\" to quit)\t2\n",
      "The less expenses is: 365.5\n",
      "What do you want to inquire about:\n",
      "                    1- Highest expenses.\n",
      "                    2- Less expenses.\n",
      "                    3- Average exchange rate.\n",
      "                    4- Total expenses\n",
      "                    (Type \"0\" to quit)\t3\n",
      "The average of the expensses is:  374.1666666666667\n",
      "What do you want to inquire about:\n",
      "                    1- Highest expenses.\n",
      "                    2- Less expenses.\n",
      "                    3- Average exchange rate.\n",
      "                    4- Total expenses\n",
      "                    (Type \"0\" to quit)\t4\n",
      "The Total of the expenses is: 1122.5\n",
      "What do you want to inquire about:\n",
      "                    1- Highest expenses.\n",
      "                    2- Less expenses.\n",
      "                    3- Average exchange rate.\n",
      "                    4- Total expenses\n",
      "                    (Type \"0\" to quit)\t0\n",
      "Thank you for using the program. Goodbye!\n"
     ]
    }
   ],
   "source": [
    "print('Welcome in Budget tracking software')\n",
    "\n",
    "while True:\n",
    "    num =float(input('Enter your expenses: '))\n",
    "    list_expenses.append(num)\n",
    "    category= input('Enter category: ')\n",
    "    expenses[category] = num  \n",
    "    ans_usre =input(\"Do you want to add another?\\n(Type 'NO' to quit)\\t\")\n",
    "    if ans_usre.upper() == 'NO':\n",
    "        while True:\n",
    "            ans_num=input('''What do you want to inquire about:\n",
    "                    1- Highest expenses.\n",
    "                    2- Less expenses.\n",
    "                    3- Average exchange rate.\n",
    "                    4- Total expenses\n",
    "                    (Type \"0\" to quit)\\t''')\n",
    "\n",
    "            if int(ans_num) == 0:\n",
    "                break\n",
    "            elif int(ans_num) == 1:\n",
    "                highest_expenses()\n",
    "            elif int(ans_num) == 2:\n",
    "                Less_expenses()\n",
    "            elif int(ans_num) == 3:\n",
    "                average_expenses()\n",
    "            elif int(ans_num) == 4:\n",
    "                total_expenses()\n",
    "        if int(ans_num) == 0:\n",
    "                break\n",
    "\n",
    "print('Thank you for using the program. Goodbye!')"
   ]
  },
  {
   "cell_type": "markdown",
   "id": "c72dd56f",
   "metadata": {},
   "source": [
    "- View list and dictionary."
   ]
  },
  {
   "cell_type": "code",
   "execution_count": 7,
   "id": "edff3058",
   "metadata": {
    "scrolled": true
   },
   "outputs": [
    {
     "name": "stdout",
     "output_type": "stream",
     "text": [
      "{'Food': 365.5, 'Drink': 370.0, 'Bills': 387.0}\n",
      "[365.5, 370.0, 387.0]\n"
     ]
    }
   ],
   "source": [
    "print(expenses)\n",
    "print(list_expenses)"
   ]
  }
 ],
 "metadata": {
  "kernelspec": {
   "display_name": "Python 3 (ipykernel)",
   "language": "python",
   "name": "python3"
  },
  "language_info": {
   "codemirror_mode": {
    "name": "ipython",
    "version": 3
   },
   "file_extension": ".py",
   "mimetype": "text/x-python",
   "name": "python",
   "nbconvert_exporter": "python",
   "pygments_lexer": "ipython3",
   "version": "3.10.9"
  }
 },
 "nbformat": 4,
 "nbformat_minor": 5
}
