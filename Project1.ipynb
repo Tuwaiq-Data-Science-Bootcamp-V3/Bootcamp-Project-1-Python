{
 "cells": [
  {
   "cell_type": "code",
   "execution_count": 1,
   "id": "ca45c66e",
   "metadata": {},
   "outputs": [],
   "source": [
    "#exercises that contains dictionaries representing different exercises\n",
    "global exercises\n",
    "exercises = [\n",
    "    {\n",
    "        'name': 'Push-ups',\n",
    "        'targted_muscles': 'Chest',\n",
    "        'fitness_level': 'Beginner',\n",
    "    },\n",
    "    {\n",
    "        'name': 'Squats',\n",
    "        'targted_muscles': 'Legs',\n",
    "        'fitness_level': 'Intermediate',\n",
    "    },\n",
    "    {\n",
    "        'name': 'Plank',\n",
    "        'targted_muscles': 'Core',\n",
    "        'fitness_level': 'Beginner',\n",
    "    },\n",
    "    {\n",
    "        'name': 'Bicep Curls',\n",
    "        'targted_muscles': 'Arms',\n",
    "        'fitness_level': 'Intermediate',\n",
    "    }\n",
    "]\n",
    "#print(exercises)"
   ]
  },
  {
   "cell_type": "code",
   "execution_count": 2,
   "id": "6f9289ac",
   "metadata": {
    "scrolled": true
   },
   "outputs": [
    {
     "name": "stdout",
     "output_type": "stream",
     "text": [
      "Track your workout:\n",
      "Enter name of exercise: Arms\n",
      "Enter exercise duration (in minutes): 20\n",
      "Enter your weight (in kg): 60\n",
      "So good, you burned 60.0 calories!\n"
     ]
    }
   ],
   "source": [
    "# this function will calculate calories burned, based on \n",
    "def caloriesburned(d, w):\n",
    "    global calories_burned\n",
    "    #c is a constant used to calculate the calories burned during a workout. It can be adjusted based on personal factors and the intensity of the exercise.\n",
    "    c = 0.05\n",
    "    calories_burned = c * d * w\n",
    "    return calories_burned\n",
    "print(\"Track your workout:\")\n",
    "exercise_name = input(\"Enter name of exercise: \")\n",
    "duration = int(input(\"Enter exercise duration (in minutes): \")) # minutes (Ex:15)\n",
    "weight = float(input(\"Enter your weight (in kg): \")) #float (Ex:56.9)\n",
    "x= caloriesburned(duration, weight)\n",
    "print(f'So good, you burned {x} calories!')"
   ]
  },
  {
   "cell_type": "code",
   "execution_count": 3,
   "id": "9243c3ca",
   "metadata": {},
   "outputs": [
    {
     "name": "stdout",
     "output_type": "stream",
     "text": [
      "Workout tracked successfully!\n"
     ]
    }
   ],
   "source": [
    "# this function will add the workout to the workoutHistory = [] list\n",
    "global workoutHistory \n",
    "workoutHistory = []\n",
    "workoutHistory.append({\n",
    "    'exercise': exercise_name,\n",
    "    'duration': duration,\n",
    "    'calories_burned': calories_burned\n",
    "})\n",
    "print(\"Workout tracked successfully!\")"
   ]
  },
  {
   "cell_type": "code",
   "execution_count": 4,
   "id": "46120690",
   "metadata": {},
   "outputs": [
    {
     "name": "stdout",
     "output_type": "stream",
     "text": [
      "Set your exercise goals:\n",
      "Enter your goal (EX: weight loss): weight loss\n",
      "Goal set successfully!\n"
     ]
    }
   ],
   "source": [
    "# this function enables to users to enter his/her fitness goals, we can used it in future to recommend exercises that fit his goal\n",
    "userGoals = []\n",
    "def set_goals():\n",
    "    print(\"Set your exercise goals:\")\n",
    "    goal = input(\"Enter your goal (EX: weight loss): \")\n",
    "    userGoals.append(goal)\n",
    "    print(\"Goal set successfully!\")\n",
    "set_goals()"
   ]
  },
  {
   "cell_type": "code",
   "execution_count": 5,
   "id": "b1896614",
   "metadata": {},
   "outputs": [
    {
     "name": "stdout",
     "output_type": "stream",
     "text": [
      "Workout History:\n",
      "- Arms: 20 minutes, 60.0 calories burned\n",
      "- Intensity: Low\n"
     ]
    }
   ],
   "source": [
    "# this function shows Workout History. It will show the workout and its intensity\n",
    "def displayWorkoutHistory():\n",
    "    print(\"Workout History:\")\n",
    "    if not workoutHistory:\n",
    "        print(\"No workout history available.\")\n",
    "    else:\n",
    "        for workout in workoutHistory:\n",
    "            print(f\"- {workout['exercise']}: {workout['duration']} minutes, {workout['calories_burned']} calories burned\")\n",
    "            # Lambda function to categorize the intensity of the workout based on calories burned\n",
    "            intensity = lambda calories: \"Low\" if calories < 100 else \"Moderate\" if calories < 500 else \"High\"\n",
    "            workout_intensity = intensity(workout['calories_burned'])# Calculate the intensity of the workout\n",
    "            print(f\"- Intensity: {workout_intensity}\")\n",
    "displayWorkoutHistory()"
   ]
  },
  {
   "cell_type": "code",
   "execution_count": 6,
   "id": "89d9c529",
   "metadata": {},
   "outputs": [
    {
     "name": "stdout",
     "output_type": "stream",
     "text": [
      "Fitness Tracker App\n",
      "1. Browse Exercises\n",
      "2. Track Workout\n",
      "3. Enter Goals\n",
      "4. View Workout History\n",
      "5. Exit\n",
      "Enter your choice (1-5): 1\n",
      "Available Exercises:\n",
      "- Push-ups (Chest) (Beginner)\n",
      "- Squats (Legs) (Intermediate)\n",
      "- Plank (Core) (Beginner)\n",
      "- Bicep Curls (Arms) (Intermediate)\n",
      "Enter your choice (1-5): 2\n",
      "Track your workout:\n",
      "Enter name of exercise: Legs\n",
      "Enter exercise duration (in minutes): 10\n",
      "Enter your weight (in kg): 60\n",
      "So good, you burned 30.0 calories!\n",
      "Workout tracked successfully!\n",
      "Enter your choice (1-5): 3\n",
      "Set your exercise goals:\n",
      "Enter your goal (EX: weight loss): build muscle\n",
      "Goal set successfully!\n",
      "Enter your choice (1-5): 4\n",
      "Workout History:\n",
      "- Arms: 20 minutes, 60.0 calories burned\n",
      "- Intensity: Low\n",
      "- Legs: 10 minutes, 30.0 calories burned\n",
      "- Intensity: Low\n",
      "Enter your choice (1-5): 5\n",
      "Thank you for using the Fitness App. Goodbye!\n"
     ]
    }
   ],
   "source": [
    "# This block enables to user to choose the features that provided by this system \n",
    "print(\"Fitness Tracker App\")\n",
    "print(\"1. Browse Exercises\")\n",
    "print(\"2. Track Workout\")\n",
    "print(\"3. Enter Goals\")\n",
    "print(\"4. View Workout History\")\n",
    "print(\"5. Exit\")\n",
    "    \n",
    "while True:\n",
    "    choice = input(\"Enter your choice (1-5): \")\n",
    "\n",
    "    if choice == '1':\n",
    "        print(\"Available Exercises:\")\n",
    "        for exercise in exercises:\n",
    "            print(f\"- {exercise['name']} ({exercise['targted_muscles']}) ({exercise['fitness_level']})\")\n",
    "    \n",
    "    elif choice == '2':\n",
    "        print(\"Track your workout:\")\n",
    "        exercise_name = input(\"Enter name of exercise: \")\n",
    "        duration = int(input(\"Enter exercise duration (in minutes): \")) # minutes (Ex:15)\n",
    "        weight = float(input(\"Enter your weight (in kg): \")) #float (Ex:56.9)\n",
    "        x= caloriesburned(duration, weight)\n",
    "        print(f'So good, you burned {x} calories!')\n",
    "        # Calculate calories burned\n",
    "        calories_burned = caloriesburned(duration, weight)\n",
    "        \n",
    "        #save this workout in history\n",
    "        workoutHistory.append({\n",
    "            'exercise': exercise_name,\n",
    "            'duration': duration,\n",
    "            'calories_burned': calories_burned\n",
    "        })\n",
    "        print(\"Workout tracked successfully!\")\n",
    "\n",
    "        \n",
    "        \n",
    "    elif choice == '3':\n",
    "        set_goals()\n",
    "\n",
    "        \n",
    "    elif choice == '4':\n",
    "        displayWorkoutHistory()\n",
    "\n",
    "        \n",
    "    elif choice == '5':\n",
    "        print(\"Thank you for using the Fitness App. Goodbye!\")\n",
    "        break\n",
    "        \n",
    "        \n",
    "    else:\n",
    "        print(\"Invalid choice. Please enter a number from 1 to 5.\")"
   ]
  }
 ],
 "metadata": {
  "kernelspec": {
   "display_name": "Python 3 (ipykernel)",
   "language": "python",
   "name": "python3"
  },
  "language_info": {
   "codemirror_mode": {
    "name": "ipython",
    "version": 3
   },
   "file_extension": ".py",
   "mimetype": "text/x-python",
   "name": "python",
   "nbconvert_exporter": "python",
   "pygments_lexer": "ipython3",
   "version": "3.10.9"
  }
 },
 "nbformat": 4,
 "nbformat_minor": 5
}
