{
 "cells": [
  {
   "cell_type": "markdown",
   "id": "6d947b72",
   "metadata": {},
   "source": [
    "# Bootcamp-Project-1-Python\n",
    "\n",
    "Based on what you’ve learned until now, create a project of your choosing (impress us with your imagination). This project must at least satisfy the following minimum requirements:\n",
    "- Use at least 3 different data types.\n",
    "- Use lists or dictionaries or tuples or sets.\n",
    "- Use loops.\n",
    "- Use functions that return an output.\n",
    "- Use conditions.\n",
    "- Use a Lambda function."
   ]
  },
  {
   "cell_type": "code",
   "execution_count": 1,
   "id": "08fb03c1",
   "metadata": {},
   "outputs": [
    {
     "name": "stdout",
     "output_type": "stream",
     "text": [
      "Recommended movies for mona:\n",
      "The Shawshank Redemption (9.3)\n",
      "The Godfather (9.2)\n"
     ]
    }
   ],
   "source": [
    "# Data about movies and users\n",
    "movies = {\n",
    "    \"The Shawshank Redemption\": {\n",
    "        \"genre\": [\"Drama\"],\n",
    "        \"year\": 1994,\n",
    "        \"rating\": 9.3\n",
    "    },\n",
    "    \"The Godfather\": {\n",
    "        \"genre\": [\"Drama\", \"Crime\"],\n",
    "        \"year\": 1972,\n",
    "        \"rating\": 9.2\n",
    "    },\n",
    "    # more movies...\n",
    "}\n",
    "\n",
    "users = {\n",
    "    \"mona\": {\n",
    "        \"age\": 39,\n",
    "        \"gender\": \"female\",\n",
    "        \"preferences\": [\"Drama\", \"Romance\"]\n",
    "    },\n",
    "    \"hamad\": {\n",
    "        \"age\": 27,\n",
    "        \"gender\": \"male\",\n",
    "        \"preferences\": [\"Action\", \"Comedy\"]\n",
    "    },\n",
    "    # more users...\n",
    "}\n",
    "\n",
    "# Function to get user preferences\n",
    "def get_user_preferences(username):\n",
    "    return users[username][\"preferences\"]\n",
    "\n",
    "# Function to get movies by genre\n",
    "def get_movies_by_genre(genre):\n",
    "    genre_movies = []\n",
    "    for movie in movies:\n",
    "        if genre in movies[movie][\"genre\"]:\n",
    "            genre_movies.append(movie)\n",
    "    return genre_movies\n",
    "\n",
    "# Function to get a movie's rating\n",
    "def get_movie_rating(movie):\n",
    "    return movies[movie][\"rating\"]\n",
    "\n",
    "# Lambda function to sort movies by rating\n",
    "sort_movies_by_rating = lambda movie_list: sorted(movie_list, key=lambda movie: get_movie_rating(movie), reverse=True)\n",
    "\n",
    "username = \"mona\"\n",
    "user_preferences = get_user_preferences(username)\n",
    "recommended_movies = []\n",
    "for preference in user_preferences:\n",
    "    genre_movies = get_movies_by_genre(preference)\n",
    "    recommended_movies.extend(genre_movies)\n",
    "recommended_movies = list(set(recommended_movies)) # remove duplicates\n",
    "recommended_movies = sort_movies_by_rating(recommended_movies)\n",
    "\n",
    "print(f\"Recommended movies for {username}:\")\n",
    "for movie in recommended_movies:\n",
    "    print(f\"{movie} ({get_movie_rating(movie)})\")"
   ]
  }
 ],
 "metadata": {
  "kernelspec": {
   "display_name": "Python 3 (ipykernel)",
   "language": "python",
   "name": "python3"
  },
  "language_info": {
   "codemirror_mode": {
    "name": "ipython",
    "version": 3
   },
   "file_extension": ".py",
   "mimetype": "text/x-python",
   "name": "python",
   "nbconvert_exporter": "python",
   "pygments_lexer": "ipython3",
   "version": "3.9.13"
  }
 },
 "nbformat": 4,
 "nbformat_minor": 5
}
